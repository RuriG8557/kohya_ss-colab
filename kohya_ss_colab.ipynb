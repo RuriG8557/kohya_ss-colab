{
  "cells": [
    {
      "cell_type": "markdown",
      "metadata": {
        "id": "view-in-github"
      },
      "source": [
        "[![Open In Colab](https://colab.research.google.com/assets/colab-badge.svg)](https://colab.research.google.com/github/camenduru/kohya_ss-colab/blob/main/kohya_ss_colab.ipynb)"
      ]
    },
    {
      "cell_type": "code",
      "execution_count": null,
      "metadata": {
        "id": "NrgcDwZxgDOe"
      },
      "outputs": [],
      "source": [
        "from google.colab import drive\n",
        "drive.mount('/content/drive')\n",
        "\n",
        "!pip install dadaptation diffusers[torch] easygui einops fairscale ftfy gradio huggingface-hub lion-pytorch lycoris_lora open-clip-torch prodigyopt pytorch-lightning safetensors timm tk transformers voluptuous wandb\n",
        "\n",
        "!git clone -b v1.0 https://github.com/camenduru/kohya_ss\n",
        "%cd kohya_ss\n",
        "\n",
        "!python kohya_gui.py --share --headless"
      ]
    }
  ],
  "metadata": {
    "accelerator": "GPU",
    "colab": {
      "gpuType": "T4",
      "provenance": []
    },
    "kernelspec": {
      "display_name": "Python 3",
      "name": "python3"
    },
    "language_info": {
      "name": "python"
    }
  },
  "nbformat": 4,
  "nbformat_minor": 0
}
